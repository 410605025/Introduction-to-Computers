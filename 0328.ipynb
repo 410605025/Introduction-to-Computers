{
  "nbformat": 4,
  "nbformat_minor": 0,
  "metadata": {
    "colab": {
      "name": "0328.ipynb",
      "provenance": [],
      "collapsed_sections": [],
      "authorship_tag": "ABX9TyNddyvUmNhW9kAg5fd1p7FX",
      "include_colab_link": true
    },
    "kernelspec": {
      "name": "python3",
      "display_name": "Python 3"
    },
    "language_info": {
      "name": "python"
    }
  },
  "cells": [
    {
      "cell_type": "markdown",
      "metadata": {
        "id": "view-in-github",
        "colab_type": "text"
      },
      "source": [
        "<a href=\"https://colab.research.google.com/github/410605025/Introduction-to-Computers/blob/main/0328.ipynb\" target=\"_parent\"><img src=\"https://colab.research.google.com/assets/colab-badge.svg\" alt=\"Open In Colab\"/></a>"
      ]
    },
    {
      "cell_type": "code",
      "execution_count": null,
      "metadata": {
        "id": "McEPzpDAmr3L",
        "colab": {
          "base_uri": "https://localhost:8080/"
        },
        "outputId": "2f199961-6c22-4b4f-d627-2fe7c31f98cb"
      },
      "outputs": [
        {
          "output_type": "stream",
          "name": "stdout",
          "text": [
            "hi\n"
          ]
        }
      ],
      "source": [
        "print(\"hi\")"
      ]
    },
    {
      "cell_type": "code",
      "source": [
        "12+3"
      ],
      "metadata": {
        "id": "LE83GSF3or7I",
        "colab": {
          "base_uri": "https://localhost:8080/"
        },
        "outputId": "71264fa9-5a80-4f93-a5a6-783358c75ad2"
      },
      "execution_count": 3,
      "outputs": [
        {
          "output_type": "execute_result",
          "data": {
            "text/plain": [
              "15"
            ]
          },
          "metadata": {},
          "execution_count": 3
        }
      ]
    },
    {
      "cell_type": "code",
      "source": [
        "12-3"
      ],
      "metadata": {
        "colab": {
          "base_uri": "https://localhost:8080/"
        },
        "id": "JNVvpA9NpXVN",
        "outputId": "d3a40866-111b-4988-eb22-0e1c8743f4d3"
      },
      "execution_count": 4,
      "outputs": [
        {
          "output_type": "execute_result",
          "data": {
            "text/plain": [
              "9"
            ]
          },
          "metadata": {},
          "execution_count": 4
        }
      ]
    },
    {
      "cell_type": "code",
      "source": [
        "12*3"
      ],
      "metadata": {
        "colab": {
          "base_uri": "https://localhost:8080/"
        },
        "id": "L9hXw_8VpZGg",
        "outputId": "551a8f6b-20d3-4a78-9100-86f7e1d670f7"
      },
      "execution_count": 5,
      "outputs": [
        {
          "output_type": "execute_result",
          "data": {
            "text/plain": [
              "36"
            ]
          },
          "metadata": {},
          "execution_count": 5
        }
      ]
    },
    {
      "cell_type": "code",
      "source": [
        "32/5"
      ],
      "metadata": {
        "colab": {
          "base_uri": "https://localhost:8080/"
        },
        "id": "CRewu9n4pakq",
        "outputId": "21ca67fa-97df-4f47-9a8b-f8f37a2539f6"
      },
      "execution_count": 6,
      "outputs": [
        {
          "output_type": "execute_result",
          "data": {
            "text/plain": [
              "6.4"
            ]
          },
          "metadata": {},
          "execution_count": 6
        }
      ]
    },
    {
      "cell_type": "code",
      "source": [
        "32%5"
      ],
      "metadata": {
        "colab": {
          "base_uri": "https://localhost:8080/"
        },
        "id": "yfdaDlkWpb-U",
        "outputId": "b7664cfb-a977-490b-e8e1-30dfdbdd7d6c"
      },
      "execution_count": 7,
      "outputs": [
        {
          "output_type": "execute_result",
          "data": {
            "text/plain": [
              "2"
            ]
          },
          "metadata": {},
          "execution_count": 7
        }
      ]
    },
    {
      "cell_type": "code",
      "source": [
        "32//5"
      ],
      "metadata": {
        "colab": {
          "base_uri": "https://localhost:8080/"
        },
        "id": "IQNQciUSpdQO",
        "outputId": "c1de874c-00fe-4b4c-b906-840f9bf0ea61"
      },
      "execution_count": 8,
      "outputs": [
        {
          "output_type": "execute_result",
          "data": {
            "text/plain": [
              "6"
            ]
          },
          "metadata": {},
          "execution_count": 8
        }
      ]
    },
    {
      "cell_type": "code",
      "source": [
        "7**2"
      ],
      "metadata": {
        "colab": {
          "base_uri": "https://localhost:8080/"
        },
        "id": "YmV5f-egpdwv",
        "outputId": "eec97b9c-620d-40f4-e03e-f7178bfa179f"
      },
      "execution_count": 9,
      "outputs": [
        {
          "output_type": "execute_result",
          "data": {
            "text/plain": [
              "49"
            ]
          },
          "metadata": {},
          "execution_count": 9
        }
      ]
    },
    {
      "cell_type": "code",
      "source": [
        "a = int(input('please input a:'))\n",
        "b = int(input('please input b:'))\n",
        "c = int(input('please input c:'))\n",
        "Result = (a+b) * c / 2"
      ],
      "metadata": {
        "colab": {
          "base_uri": "https://localhost:8080/"
        },
        "id": "0ePJ_ReZpfib",
        "outputId": "b37d561d-a1f6-4670-aea9-63af4c679cf7"
      },
      "execution_count": 15,
      "outputs": [
        {
          "name": "stdout",
          "output_type": "stream",
          "text": [
            "please input a:3\n",
            "please input b:4\n",
            "please input c:8\n"
          ]
        }
      ]
    },
    {
      "cell_type": "code",
      "source": [
        "Result"
      ],
      "metadata": {
        "colab": {
          "base_uri": "https://localhost:8080/"
        },
        "id": "u3RbREiCptWD",
        "outputId": "d63ed4a2-9a7f-4ad4-f67a-c8f01b570a8d"
      },
      "execution_count": 16,
      "outputs": [
        {
          "output_type": "execute_result",
          "data": {
            "text/plain": [
              "28.0"
            ]
          },
          "metadata": {},
          "execution_count": 16
        }
      ]
    },
    {
      "cell_type": "code",
      "source": [
        "a = int(input('please input a:'))\n",
        "b = int(input('please input b:'))\n",
        "c = int(input('please input c:'))\n",
        "d = (a+b) * c / 2\n",
        "print ('The value of a is :', a, 'The value of b is :', b, 'The value of c is :', c, 'The result is ', d)"
      ],
      "metadata": {
        "colab": {
          "base_uri": "https://localhost:8080/"
        },
        "id": "_lNCELhsqkdg",
        "outputId": "526e4b18-f53d-4849-8f28-0e2d1f872a85"
      },
      "execution_count": 22,
      "outputs": [
        {
          "output_type": "stream",
          "name": "stdout",
          "text": [
            "please input a:3\n",
            "please input b:4\n",
            "please input c:5\n",
            "The value of a is : 3 The value of b is : 4 The value of c is : 5 The result is  17.5\n"
          ]
        }
      ]
    },
    {
      "cell_type": "code",
      "source": [
        "print('The value of a is : %d, The value of b is : %d, The value of c is : %d, The result is : %d' % (a,b,c,d))"
      ],
      "metadata": {
        "colab": {
          "base_uri": "https://localhost:8080/"
        },
        "id": "lbjNWR98rtYD",
        "outputId": "176c727b-b929-468d-89a0-8ff78a851d7a"
      },
      "execution_count": 26,
      "outputs": [
        {
          "output_type": "stream",
          "name": "stdout",
          "text": [
            "The value of a is : 3, The value of b is : 4, The value of c is : 5, The result is : 17\n"
          ]
        }
      ]
    },
    {
      "cell_type": "code",
      "source": [
        "print('The value of a is : %d, The value of b is : %d, The value of c is : %d, The result is : %0.1f' % (a,b,c,d))"
      ],
      "metadata": {
        "colab": {
          "base_uri": "https://localhost:8080/"
        },
        "id": "nJ-e2u5wt_Q9",
        "outputId": "8d10928d-0a53-41bf-d490-66b4d493d262"
      },
      "execution_count": 28,
      "outputs": [
        {
          "output_type": "stream",
          "name": "stdout",
          "text": [
            "The value of a is : 3, The value of b is : 4, The value of c is : 5, The result is : 17.5\n"
          ]
        }
      ]
    },
    {
      "cell_type": "code",
      "source": [
        "a=1.1\n",
        "b=2.02\n",
        "c=3.003\n",
        "print ('a=%0.1f, b=%0.2f, c=%0.3f'%(a,b,c))"
      ],
      "metadata": {
        "colab": {
          "base_uri": "https://localhost:8080/"
        },
        "id": "wsha6MpIu7pV",
        "outputId": "47edd001-3136-4eb7-9691-52a869fabf7e"
      },
      "execution_count": 33,
      "outputs": [
        {
          "output_type": "stream",
          "name": "stdout",
          "text": [
            "a=1.1, b=2.02, c=3.003\n"
          ]
        }
      ]
    },
    {
      "cell_type": "code",
      "source": [
        "身高 = int(input('請輸入身高(cm): '))\n",
        "體重 = int(input('請輸入體重(kg): '))\n",
        "BMI = 體重/(身高/100)**2\n",
        "print ('身高 %d 公分, 體重 %d 公斤, BMI值為 %0.2f' % (身高,體重,BMI))"
      ],
      "metadata": {
        "colab": {
          "base_uri": "https://localhost:8080/"
        },
        "id": "alYTHNvyy2wh",
        "outputId": "7c4546ff-5131-43e9-a905-829de261cb4d"
      },
      "execution_count": 38,
      "outputs": [
        {
          "output_type": "stream",
          "name": "stdout",
          "text": [
            "請輸入身高(cm): 180\n",
            "請輸入體重(kg): 80\n",
            "身高 180 公分, 體重 80 公斤, BMI值為 24.69\n"
          ]
        }
      ]
    },
    {
      "cell_type": "code",
      "source": [
        "(6+9==2+13)"
      ],
      "metadata": {
        "colab": {
          "base_uri": "https://localhost:8080/"
        },
        "id": "iCsFNcwQ2Q_c",
        "outputId": "a1783a3d-fd5d-4a3b-eaf4-be96f85acd96"
      },
      "execution_count": 42,
      "outputs": [
        {
          "output_type": "execute_result",
          "data": {
            "text/plain": [
              "True"
            ]
          },
          "metadata": {},
          "execution_count": 42
        }
      ]
    },
    {
      "cell_type": "code",
      "source": [
        "(8+9==2+13)"
      ],
      "metadata": {
        "colab": {
          "base_uri": "https://localhost:8080/"
        },
        "id": "1z3n7JHJ3mSb",
        "outputId": "9e1a97a6-2719-4e42-9a15-76417cb3e583"
      },
      "execution_count": 43,
      "outputs": [
        {
          "output_type": "execute_result",
          "data": {
            "text/plain": [
              "False"
            ]
          },
          "metadata": {},
          "execution_count": 43
        }
      ]
    },
    {
      "cell_type": "code",
      "source": [
        "(8+9!=2+13)"
      ],
      "metadata": {
        "colab": {
          "base_uri": "https://localhost:8080/"
        },
        "id": "YWUxfiJU5Brx",
        "outputId": "399d8807-f3e7-4c60-9360-04a85685f49b"
      },
      "execution_count": 44,
      "outputs": [
        {
          "output_type": "execute_result",
          "data": {
            "text/plain": [
              "True"
            ]
          },
          "metadata": {},
          "execution_count": 44
        }
      ]
    },
    {
      "cell_type": "code",
      "source": [
        "(6+9!=2+13)"
      ],
      "metadata": {
        "colab": {
          "base_uri": "https://localhost:8080/"
        },
        "id": "y_mtsU9b5Dvr",
        "outputId": "148eba01-ba5d-45c9-9378-814b8c880e09"
      },
      "execution_count": 45,
      "outputs": [
        {
          "output_type": "execute_result",
          "data": {
            "text/plain": [
              "False"
            ]
          },
          "metadata": {},
          "execution_count": 45
        }
      ]
    },
    {
      "cell_type": "code",
      "source": [
        "(8+9>2+13)\n"
      ],
      "metadata": {
        "colab": {
          "base_uri": "https://localhost:8080/"
        },
        "id": "FvUYffOD5Ffp",
        "outputId": "2f45f084-33be-49d9-8c3a-aed253f9adb9"
      },
      "execution_count": 46,
      "outputs": [
        {
          "output_type": "execute_result",
          "data": {
            "text/plain": [
              "True"
            ]
          },
          "metadata": {},
          "execution_count": 46
        }
      ]
    },
    {
      "cell_type": "code",
      "source": [
        "(6+9>2+13)"
      ],
      "metadata": {
        "colab": {
          "base_uri": "https://localhost:8080/"
        },
        "id": "m_wS5ig_5Iqg",
        "outputId": "1e5e5c8b-f359-4d25-a856-88cc5670363f"
      },
      "execution_count": 57,
      "outputs": [
        {
          "output_type": "execute_result",
          "data": {
            "text/plain": [
              "False"
            ]
          },
          "metadata": {},
          "execution_count": 57
        }
      ]
    },
    {
      "cell_type": "code",
      "source": [
        "(5+9<2+13)"
      ],
      "metadata": {
        "colab": {
          "base_uri": "https://localhost:8080/"
        },
        "id": "G9EhtV1z5KU3",
        "outputId": "bfc8ea58-d273-4edb-c315-7e65defaa820"
      },
      "execution_count": 54,
      "outputs": [
        {
          "output_type": "execute_result",
          "data": {
            "text/plain": [
              "True"
            ]
          },
          "metadata": {},
          "execution_count": 54
        }
      ]
    },
    {
      "cell_type": "code",
      "source": [
        "(8+9<2+13)"
      ],
      "metadata": {
        "colab": {
          "base_uri": "https://localhost:8080/"
        },
        "id": "KifVu3su5L2r",
        "outputId": "ad61a047-556b-419b-8454-cbdeec8d74f2"
      },
      "execution_count": 56,
      "outputs": [
        {
          "output_type": "execute_result",
          "data": {
            "text/plain": [
              "False"
            ]
          },
          "metadata": {},
          "execution_count": 56
        }
      ]
    },
    {
      "cell_type": "code",
      "source": [
        "(6+9>=2+13)"
      ],
      "metadata": {
        "colab": {
          "base_uri": "https://localhost:8080/"
        },
        "id": "VjLPigqe5NVv",
        "outputId": "fe25c458-7f93-460b-fa99-36412bcbb190"
      },
      "execution_count": 55,
      "outputs": [
        {
          "output_type": "execute_result",
          "data": {
            "text/plain": [
              "True"
            ]
          },
          "metadata": {},
          "execution_count": 55
        }
      ]
    },
    {
      "cell_type": "code",
      "source": [
        "(3+9>=2+13)"
      ],
      "metadata": {
        "colab": {
          "base_uri": "https://localhost:8080/"
        },
        "id": "-he3xldd5O1D",
        "outputId": "7d6ad5e3-dc5a-469d-b5d5-e3fbba77eb74"
      },
      "execution_count": 51,
      "outputs": [
        {
          "output_type": "execute_result",
          "data": {
            "text/plain": [
              "False"
            ]
          },
          "metadata": {},
          "execution_count": 51
        }
      ]
    },
    {
      "cell_type": "code",
      "source": [
        "(3+9<=2+13)"
      ],
      "metadata": {
        "colab": {
          "base_uri": "https://localhost:8080/"
        },
        "id": "7y7X2-Mg5QJj",
        "outputId": "c972ed5b-0cdc-4fea-91fb-460467cbec0c"
      },
      "execution_count": 52,
      "outputs": [
        {
          "output_type": "execute_result",
          "data": {
            "text/plain": [
              "True"
            ]
          },
          "metadata": {},
          "execution_count": 52
        }
      ]
    },
    {
      "cell_type": "code",
      "source": [
        "(8+9<=2+13)"
      ],
      "metadata": {
        "colab": {
          "base_uri": "https://localhost:8080/"
        },
        "id": "5zi9Jfab5SAI",
        "outputId": "1bd833de-f16f-4432-a69e-ca7d388c3814"
      },
      "execution_count": 53,
      "outputs": [
        {
          "output_type": "execute_result",
          "data": {
            "text/plain": [
              "False"
            ]
          },
          "metadata": {},
          "execution_count": 53
        }
      ]
    },
    {
      "cell_type": "code",
      "source": [
        ""
      ],
      "metadata": {
        "id": "fCK8mdSN5SfY"
      },
      "execution_count": null,
      "outputs": []
    }
  ]
}
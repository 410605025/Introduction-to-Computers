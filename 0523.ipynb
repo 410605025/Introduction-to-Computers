{
  "nbformat": 4,
  "nbformat_minor": 0,
  "metadata": {
    "colab": {
      "name": "0523.ipynb",
      "provenance": [],
      "authorship_tag": "ABX9TyNxKVXmKK04aunZsLMyOhA5",
      "include_colab_link": true
    },
    "kernelspec": {
      "name": "python3",
      "display_name": "Python 3"
    },
    "language_info": {
      "name": "python"
    }
  },
  "cells": [
    {
      "cell_type": "markdown",
      "metadata": {
        "id": "view-in-github",
        "colab_type": "text"
      },
      "source": [
        "<a href=\"https://colab.research.google.com/github/410605025/Introduction-to-Computers/blob/main/0523.ipynb\" target=\"_parent\"><img src=\"https://colab.research.google.com/assets/colab-badge.svg\" alt=\"Open In Colab\"/></a>"
      ]
    },
    {
      "cell_type": "code",
      "execution_count": null,
      "metadata": {
        "colab": {
          "base_uri": "https://localhost:8080/"
        },
        "id": "8VMmsN2i-mI_",
        "outputId": "29beb172-3176-4c53-8113-7e0aca107f8b"
      },
      "outputs": [
        {
          "output_type": "stream",
          "name": "stdout",
          "text": [
            "Please enter number range: 10\n",
            "1 to 10 added is 55\n"
          ]
        }
      ],
      "source": [
        "sum=0\n",
        "test=int(input('Please enter number range: '))\n",
        "for n in range(1, test+1):\n",
        "  sum=sum+n\n",
        "print(\"1 to\", test,'added is',sum)"
      ]
    },
    {
      "cell_type": "code",
      "source": [
        "sum=0\n",
        "test=int(input('Please enter number range: '))\n",
        "for m in range(1, test+1):\n",
        "  sum=sum+m\n",
        "  print(\"1 to\", m,'added is',sum)"
      ],
      "metadata": {
        "colab": {
          "base_uri": "https://localhost:8080/"
        },
        "id": "3i-W0OpUAAft",
        "outputId": "a7fa4640-b0f0-4e4a-8c95-57f0194bddb4"
      },
      "execution_count": null,
      "outputs": [
        {
          "output_type": "stream",
          "name": "stdout",
          "text": [
            "Please enter number range: 10\n",
            "1 to 1 added is 1\n",
            "1 to 2 added is 3\n",
            "1 to 3 added is 6\n",
            "1 to 4 added is 10\n",
            "1 to 5 added is 15\n",
            "1 to 6 added is 21\n",
            "1 to 7 added is 28\n",
            "1 to 8 added is 36\n",
            "1 to 9 added is 45\n",
            "1 to 10 added is 55\n"
          ]
        }
      ]
    },
    {
      "cell_type": "code",
      "source": [
        "for j in range(1,5):\n",
        "  print(j)\n",
        "  for i in range(1,3):\n",
        "    k=i*j\n",
        "    print(j,\"*\",i,\"=\",k)"
      ],
      "metadata": {
        "colab": {
          "base_uri": "https://localhost:8080/"
        },
        "id": "0hqmFUujANWg",
        "outputId": "9e5fa5b7-b363-4dac-9cfb-6a36f5f99d63"
      },
      "execution_count": null,
      "outputs": [
        {
          "output_type": "stream",
          "name": "stdout",
          "text": [
            "1\n",
            "1 * 1 = 1\n",
            "1 * 2 = 2\n",
            "2\n",
            "2 * 1 = 2\n",
            "2 * 2 = 4\n",
            "3\n",
            "3 * 1 = 3\n",
            "3 * 2 = 6\n",
            "4\n",
            "4 * 1 = 4\n",
            "4 * 2 = 8\n"
          ]
        }
      ]
    },
    {
      "cell_type": "code",
      "source": [
        ""
      ],
      "metadata": {
        "id": "g3B8AMSRC9uo"
      },
      "execution_count": null,
      "outputs": []
    },
    {
      "cell_type": "code",
      "source": [
        "for j in range(1,6):\n",
        "  print(j)\n",
        "  for i in range(1,3):\n",
        "    k=i*j\n",
        "    print(j,\"*\",i,\"=\",k)"
      ],
      "metadata": {
        "colab": {
          "base_uri": "https://localhost:8080/"
        },
        "outputId": "5c07f5fe-1946-4660-c3bd-f96113e79f33",
        "id": "m_KyQmlTD3O1"
      },
      "execution_count": null,
      "outputs": [
        {
          "output_type": "stream",
          "name": "stdout",
          "text": [
            "1\n",
            "1 * 1 = 1\n",
            "1 * 2 = 2\n",
            "2\n",
            "2 * 1 = 2\n",
            "2 * 2 = 4\n",
            "3\n",
            "3 * 1 = 3\n",
            "3 * 2 = 6\n",
            "4\n",
            "4 * 1 = 4\n",
            "4 * 2 = 8\n",
            "5\n",
            "5 * 1 = 5\n",
            "5 * 2 = 10\n"
          ]
        }
      ]
    },
    {
      "cell_type": "code",
      "source": [
        "for i in range(1,5):\n",
        "  if(i==4):\n",
        "    break\n",
        "  print(i, end=\" \")"
      ],
      "metadata": {
        "colab": {
          "base_uri": "https://localhost:8080/"
        },
        "id": "uJ-RwLUaD7Jn",
        "outputId": "02e01cce-5c01-4163-c411-190f962f1f3c"
      },
      "execution_count": null,
      "outputs": [
        {
          "output_type": "stream",
          "name": "stdout",
          "text": [
            "1 2 3 "
          ]
        }
      ]
    },
    {
      "cell_type": "code",
      "source": [
        "for i in range(1,5):\n",
        "  if(i==4):\n",
        "    continue\n",
        "  print(i, end=\" \")"
      ],
      "metadata": {
        "colab": {
          "base_uri": "https://localhost:8080/"
        },
        "id": "kpBc_HJYE3tG",
        "outputId": "062bf603-b3a4-4af6-a8ec-7cf8a9a893ce"
      },
      "execution_count": null,
      "outputs": [
        {
          "output_type": "stream",
          "name": "stdout",
          "text": [
            "1 2 3 "
          ]
        }
      ]
    },
    {
      "cell_type": "code",
      "source": [
        "count=0\n",
        "for string in \"1233\":\n",
        "  count+=1\n",
        "  if string == '3':\n",
        "    break\n",
        "  print(string)\n",
        "print(\"Code run is over\")\n",
        "print(\"Code has run for %d times\" %count)"
      ],
      "metadata": {
        "colab": {
          "base_uri": "https://localhost:8080/"
        },
        "id": "VdFvxzlwFPOv",
        "outputId": "39a992f7-1b52-4107-fdf2-ed82c122955b"
      },
      "execution_count": null,
      "outputs": [
        {
          "output_type": "stream",
          "name": "stdout",
          "text": [
            "1\n",
            "2\n",
            "Code run is over\n",
            "Code has run for 3 times\n"
          ]
        }
      ]
    },
    {
      "cell_type": "code",
      "source": [
        "a=int(input('please enter the first number: '))\n",
        "b=int(input('please enter the second number: '))\n",
        "for i in range(1,b+1):\n",
        "  c=a*i\n",
        "  for j in range(1,a+1):\n",
        "    d=b*j\n",
        "    if c==d:\n",
        "      print('The Common Multipler is',c)    "
      ],
      "metadata": {
        "colab": {
          "base_uri": "https://localhost:8080/"
        },
        "id": "KZga7-wKHYqJ",
        "outputId": "299bd8fc-5505-47d2-ff64-0bdda6b7e341"
      },
      "execution_count": null,
      "outputs": [
        {
          "output_type": "stream",
          "name": "stdout",
          "text": [
            "please enter the first number: 4\n",
            "please enter the second number: 6\n",
            "The Common Multipler is 12\n",
            "The Common Multipler is 24\n"
          ]
        }
      ]
    },
    {
      "cell_type": "code",
      "source": [
        "a=int(input('please enter the first number: '))\n",
        "b=int(input('please enter the second number: '))\n",
        "for i in range(1,b+1):\n",
        "  c=a*i\n",
        "  for j in range(1,a+1):\n",
        "    d=b*j\n",
        "    if c==d:\n",
        "      print('The Common Multiplier is',c)    "
      ],
      "metadata": {
        "colab": {
          "base_uri": "https://localhost:8080/"
        },
        "id": "UPbBhyssKMdf",
        "outputId": "99519d3b-a2b3-4a29-943c-7ea5012d9eee"
      },
      "execution_count": null,
      "outputs": [
        {
          "output_type": "stream",
          "name": "stdout",
          "text": [
            "please enter the first number: 9\n",
            "please enter the second number: 15\n",
            "The Common Multiplier is 45\n",
            "The Common Multiplier is 90\n",
            "The Common Multiplier is 135\n"
          ]
        }
      ]
    },
    {
      "cell_type": "code",
      "source": [
        "a=int(input('please eneter a number: '))\n",
        "for i in range(1,a+1):\n",
        "  if(i%5==0):\n",
        "    continue\n",
        "  print(i, end=' ')"
      ],
      "metadata": {
        "colab": {
          "base_uri": "https://localhost:8080/"
        },
        "id": "2VbbMIziQ0er",
        "outputId": "a3ab6e9e-98b0-479a-80f0-b517f41eb917"
      },
      "execution_count": null,
      "outputs": [
        {
          "output_type": "stream",
          "name": "stdout",
          "text": [
            "please eneter a number: 21\n",
            "1 2 3 4 6 7 8 9 11 12 13 14 16 17 18 19 21 "
          ]
        }
      ]
    },
    {
      "cell_type": "code",
      "source": [
        ""
      ],
      "metadata": {
        "id": "W2JpVgzQYaUg"
      },
      "execution_count": null,
      "outputs": []
    }
  ]
}
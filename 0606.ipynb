{
  "nbformat": 4,
  "nbformat_minor": 0,
  "metadata": {
    "colab": {
      "name": "0606.ipynb",
      "provenance": [],
      "authorship_tag": "ABX9TyO25aY3OzkrQIgOTtHXF8pL",
      "include_colab_link": true
    },
    "kernelspec": {
      "name": "python3",
      "display_name": "Python 3"
    },
    "language_info": {
      "name": "python"
    }
  },
  "cells": [
    {
      "cell_type": "markdown",
      "metadata": {
        "id": "view-in-github",
        "colab_type": "text"
      },
      "source": [
        "<a href=\"https://colab.research.google.com/github/410605025/Introduction-to-Computers/blob/main/0606.ipynb\" target=\"_parent\"><img src=\"https://colab.research.google.com/assets/colab-badge.svg\" alt=\"Open In Colab\"/></a>"
      ]
    },
    {
      "cell_type": "code",
      "execution_count": null,
      "metadata": {
        "colab": {
          "base_uri": "https://localhost:8080/"
        },
        "id": "t9v-PL6cF3rP",
        "outputId": "1e753e6c-c6da-488e-b4f2-1cac7989bc0a"
      },
      "outputs": [
        {
          "output_type": "stream",
          "name": "stdout",
          "text": [
            "625\n",
            "650\n"
          ]
        }
      ],
      "source": [
        "i=result=0\n",
        "while i<=50:\n",
        "  if i%2!=0:\n",
        "    result+=i\n",
        "  i+=1\n",
        "print(result)\n",
        "\n",
        "i=result=0\n",
        "while i<=50:\n",
        "  if i%2==0:\n",
        "    result+=i\n",
        "  i+=1\n",
        "print(result)"
      ]
    },
    {
      "cell_type": "code",
      "source": [
        "n=int(input(\"Please enter a number: \"))\n",
        "for i in range(1,n+1):\n",
        "  for j in range(i,n+1):\n",
        "    print(\"*\", end=\" \")\n",
        "  print()"
      ],
      "metadata": {
        "colab": {
          "base_uri": "https://localhost:8080/"
        },
        "id": "c2N3ypdWHQcc",
        "outputId": "29149cc3-c228-4187-c52f-778d12ec890c"
      },
      "execution_count": null,
      "outputs": [
        {
          "output_type": "stream",
          "name": "stdout",
          "text": [
            "Please enter a number: 7\n",
            "* * * * * * * \n",
            "* * * * * * \n",
            "* * * * * \n",
            "* * * * \n",
            "* * * \n",
            "* * \n",
            "* \n"
          ]
        }
      ]
    },
    {
      "cell_type": "code",
      "source": [
        "total=0\n",
        "for a in range (1,100):\n",
        "  if(a%3==0 or a%7==0):\n",
        "    total+=a\n",
        "print(\"The total of all multiplication of 3 and 7 between 1-100 is\",total)"
      ],
      "metadata": {
        "colab": {
          "base_uri": "https://localhost:8080/"
        },
        "id": "HeIlbsqeIAch",
        "outputId": "b000d9a3-c929-4ec6-c643-19345ada763a"
      },
      "execution_count": null,
      "outputs": [
        {
          "output_type": "stream",
          "name": "stdout",
          "text": [
            "The total of all multiplication of 3 and 7 between 1-100 is 2208\n"
          ]
        }
      ]
    },
    {
      "cell_type": "code",
      "source": [
        "p=1\n",
        "counter=0\n",
        "n=int(input(\"Please enter a number: \"))\n",
        "print(\"The factorial of\",n,\"is\", end=\" \")\n",
        "while (p<=n):\n",
        "  if(n%p==0):\n",
        "    print(p, end=\" \")\n",
        "    counter+=1\n",
        "  p+=1\n",
        "\n",
        "print()\n",
        "if (counter==2):\n",
        "  print(n, \"is a prime number\")\n",
        "else:\n",
        "  print(n, \"is not a prime number\")"
      ],
      "metadata": {
        "colab": {
          "base_uri": "https://localhost:8080/"
        },
        "id": "Zz0gy0REI0le",
        "outputId": "60560e31-b5a2-4f22-a843-194848d9bc67"
      },
      "execution_count": null,
      "outputs": [
        {
          "output_type": "stream",
          "name": "stdout",
          "text": [
            "Please enter a number: 12\n",
            "The factorial of 12 is 1 2 3 4 6 12 \n",
            "12 is not a prime number\n"
          ]
        }
      ]
    },
    {
      "cell_type": "code",
      "source": [
        "list1=[1,2,3,4,5]\n",
        "list1"
      ],
      "metadata": {
        "colab": {
          "base_uri": "https://localhost:8080/"
        },
        "id": "z3H3TunXKWwd",
        "outputId": "bca63e6c-3bc2-43a5-df0c-c0a80c563ccf"
      },
      "execution_count": null,
      "outputs": [
        {
          "output_type": "execute_result",
          "data": {
            "text/plain": [
              "[1, 2, 3, 4, 5]"
            ]
          },
          "metadata": {},
          "execution_count": 14
        }
      ]
    },
    {
      "cell_type": "code",
      "source": [
        "score=[85,79,93]\n",
        "print(\"Chinese score: \",score[0])\n",
        "print(\"Math score: \",score[1])\n",
        "print(\"English score: \",score[2])"
      ],
      "metadata": {
        "colab": {
          "base_uri": "https://localhost:8080/"
        },
        "id": "vzP9DiS6L-4T",
        "outputId": "9631b5d7-c965-481f-d201-2f7d01a69b67"
      },
      "execution_count": null,
      "outputs": [
        {
          "output_type": "stream",
          "name": "stdout",
          "text": [
            "Chinese score:  85\n",
            "Math score:  79\n",
            "English score:  93\n"
          ]
        }
      ]
    },
    {
      "cell_type": "code",
      "source": [
        "list2=[\"apple\", \"banana\", \"orange\"]\n",
        "for s in list2:\n",
        "  print(s,end=\",\")"
      ],
      "metadata": {
        "colab": {
          "base_uri": "https://localhost:8080/"
        },
        "id": "HnEb_AR4Rtpl",
        "outputId": "84ff69d8-3a12-4253-dd04-36dfb49041d6"
      },
      "execution_count": null,
      "outputs": [
        {
          "output_type": "stream",
          "name": "stdout",
          "text": [
            "apple,banana,orange,"
          ]
        }
      ]
    },
    {
      "cell_type": "code",
      "source": [
        "list3=[\"123\", \"apple\", True]\n",
        "for s in list3:\n",
        "  print(s)"
      ],
      "metadata": {
        "colab": {
          "base_uri": "https://localhost:8080/"
        },
        "id": "thr_8sikVW4p",
        "outputId": "c5b46b20-d045-4b8e-dbc2-b4469d2b90eb"
      },
      "execution_count": null,
      "outputs": [
        {
          "output_type": "stream",
          "name": "stdout",
          "text": [
            "123\n",
            "apple\n",
            "True\n"
          ]
        }
      ]
    },
    {
      "cell_type": "code",
      "source": [
        "score=[\"Chinese score:85\",\"Math score:79\",\"English score:93\"]\n",
        "for i in range(len(score)):\n",
        "  print(score[i])"
      ],
      "metadata": {
        "id": "sgb9mcg9Vk5M",
        "colab": {
          "base_uri": "https://localhost:8080/"
        },
        "outputId": "168e4bef-5b22-4fa4-e7d0-07b0d7b70fbd"
      },
      "execution_count": 3,
      "outputs": [
        {
          "output_type": "stream",
          "name": "stdout",
          "text": [
            "Chinese score:85\n",
            "Math score:79\n",
            "English score:93\n"
          ]
        }
      ]
    },
    {
      "cell_type": "code",
      "source": [
        "name=[\"Account 1: Tom\",\"Account 2: Mary\", \"Account 3: Tony\"]\n",
        "for i in range(len(name)):\n",
        "  print(name[i])"
      ],
      "metadata": {
        "colab": {
          "base_uri": "https://localhost:8080/"
        },
        "id": "GRCQHvS5ik9d",
        "outputId": "21f0fa71-2b42-4c08-c65c-cd2da22a6c15"
      },
      "execution_count": 6,
      "outputs": [
        {
          "output_type": "stream",
          "name": "stdout",
          "text": [
            "Account 1: Tom\n",
            "Account 2: Mary\n",
            "Account 3: Tony\n"
          ]
        }
      ]
    },
    {
      "cell_type": "code",
      "source": [
        ""
      ],
      "metadata": {
        "id": "yNnGW_Twk6xD"
      },
      "execution_count": null,
      "outputs": []
    }
  ]
}
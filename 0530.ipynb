{
  "nbformat": 4,
  "nbformat_minor": 0,
  "metadata": {
    "colab": {
      "name": "0530.ipynb",
      "provenance": [],
      "authorship_tag": "ABX9TyPPXHNIOfYAnXMtnlte0xGx",
      "include_colab_link": true
    },
    "kernelspec": {
      "name": "python3",
      "display_name": "Python 3"
    },
    "language_info": {
      "name": "python"
    }
  },
  "cells": [
    {
      "cell_type": "markdown",
      "metadata": {
        "id": "view-in-github",
        "colab_type": "text"
      },
      "source": [
        "<a href=\"https://colab.research.google.com/github/410605025/Introduction-to-Computers/blob/main/0530.ipynb\" target=\"_parent\"><img src=\"https://colab.research.google.com/assets/colab-badge.svg\" alt=\"Open In Colab\"/></a>"
      ]
    },
    {
      "cell_type": "code",
      "execution_count": null,
      "metadata": {
        "colab": {
          "base_uri": "https://localhost:8080/"
        },
        "id": "oeNlk08jBaGO",
        "outputId": "5a71eff7-5070-4de0-c31a-1a459ed98bb3"
      },
      "outputs": [
        {
          "output_type": "stream",
          "name": "stdout",
          "text": [
            "please enter the first number: 4\n",
            "please enter the second number: 6\n",
            "The Common Multipler is 12\n"
          ]
        }
      ],
      "source": [
        "a=int(input('please enter the first number: '))\n",
        "b=int(input('please enter the second number: '))\n",
        "c=a*b\n",
        "for i in range (1,c+1):\n",
        "  if(i%a==0 and i%b==0):\n",
        "    break\n",
        "print('The Common Multipler is',i) "
      ]
    },
    {
      "cell_type": "code",
      "source": [
        "a=int(input('please eneter a number: '))\n",
        "for i in range(1,a+1):\n",
        "  if(i%5==0):\n",
        "    continue\n",
        "  print(i, end=' ')"
      ],
      "metadata": {
        "colab": {
          "base_uri": "https://localhost:8080/"
        },
        "id": "vnh6CqyiE6_a",
        "outputId": "0f94db7e-427b-40c5-808b-cf2fae011151"
      },
      "execution_count": null,
      "outputs": [
        {
          "output_type": "stream",
          "name": "stdout",
          "text": [
            "please eneter a number: 12\n",
            "1 2 3 4 6 7 8 9 11 12 "
          ]
        }
      ]
    },
    {
      "cell_type": "code",
      "source": [
        "total=n=0\n",
        "while(n<=10):\n",
        "  total +=n\n",
        "  n+=1\n",
        "print(total)"
      ],
      "metadata": {
        "colab": {
          "base_uri": "https://localhost:8080/"
        },
        "id": "eNlPzsLsG0QP",
        "outputId": "4cbff656-195d-4f10-c16a-1ff30ec27600"
      },
      "execution_count": null,
      "outputs": [
        {
          "output_type": "stream",
          "name": "stdout",
          "text": [
            "55\n"
          ]
        }
      ]
    },
    {
      "cell_type": "code",
      "source": [
        "total=n=1\n",
        "a=int(input('Please enter a number for factorial: '))\n",
        "while(n<=a):\n",
        "  total*=n\n",
        "  n+=1\n",
        "print(a,'!=',total, sep='')"
      ],
      "metadata": {
        "colab": {
          "base_uri": "https://localhost:8080/"
        },
        "id": "UzVfPACuIioj",
        "outputId": "3141c88d-e149-43f2-a7f1-537ab5730cf8"
      },
      "execution_count": null,
      "outputs": [
        {
          "output_type": "stream",
          "name": "stdout",
          "text": [
            "Please enter a number for factorial: 5\n",
            "5!=120\n"
          ]
        }
      ]
    },
    {
      "cell_type": "code",
      "source": [
        "total=n=0\n",
        "a=int(input(\"Please enter a number: \"))\n",
        "while(n<=a):\n",
        "  "
      ],
      "metadata": {
        "colab": {
          "base_uri": "https://localhost:8080/"
        },
        "id": "ntk9RaXrLBKr",
        "outputId": "d749f1df-2076-4125-cfb4-d2f8725a5673"
      },
      "execution_count": null,
      "outputs": [
        {
          "output_type": "stream",
          "name": "stdout",
          "text": [
            "Please enter a number: 10\n",
            "0\n"
          ]
        }
      ]
    },
    {
      "cell_type": "code",
      "source": [
        "star=0\n",
        "star=int(input(\"Please enter a number: \"))\n",
        "while(star != 0):\n",
        "  print(\"*\"*star)\n",
        "  star-=1"
      ],
      "metadata": {
        "id": "9M_ZWjBSNExP",
        "colab": {
          "base_uri": "https://localhost:8080/"
        },
        "outputId": "4ce9ce0f-fe0a-4bf4-dc63-b1b9a58dd32a"
      },
      "execution_count": null,
      "outputs": [
        {
          "output_type": "stream",
          "name": "stdout",
          "text": [
            "Please enter a number: 5\n",
            "*****\n",
            "****\n",
            "***\n",
            "**\n",
            "*\n"
          ]
        }
      ]
    },
    {
      "cell_type": "code",
      "source": [
        "total=a=0\n",
        "for a in range (1,100):\n",
        "  if(a%3!=0 and a%7!=0):\n",
        "    continue\n",
        "  total+=a\n",
        "print(\"The total of all multiplication of 3 and 7 between 1-100 is\",total)"
      ],
      "metadata": {
        "colab": {
          "base_uri": "https://localhost:8080/"
        },
        "id": "3E5CMs1wuQxy",
        "outputId": "9de219ea-3f15-4f47-b39d-cc96d24fed92"
      },
      "execution_count": null,
      "outputs": [
        {
          "output_type": "stream",
          "name": "stdout",
          "text": [
            "The total of all multiplication of 3 and 7 between 1-100 is 2208\n"
          ]
        }
      ]
    },
    {
      "cell_type": "code",
      "source": [
        "total=i=0\n",
        "a=int(input(\"Please enter a number: \"))\n",
        "for i in range (1,a+1):\n",
        "  if(i%2==0):\n",
        "    continue\n",
        "  total+=i\n",
        "print(f\"The total of all odd numbers between 1 and {a} is {total}\")\n",
        "\n",
        "total=i=0\n",
        "for i in range (1,a+1):\n",
        "  if(i%2!=0):\n",
        "    continue\n",
        "  total+=i\n",
        "print(f\"The total of all odd numbers between 1 and {a} is {total}\")"
      ],
      "metadata": {
        "colab": {
          "base_uri": "https://localhost:8080/"
        },
        "id": "CYFoT3GVwUPL",
        "outputId": "c31b99ad-f8c4-4921-ba6d-321d0a48d787"
      },
      "execution_count": 24,
      "outputs": [
        {
          "output_type": "stream",
          "name": "stdout",
          "text": [
            "Please enter a number: 50\n",
            "The total of all odd numbers between 1 and 50 is 625\n",
            "The total of all odd numbers between 1 and 50 is 650\n"
          ]
        }
      ]
    },
    {
      "cell_type": "code",
      "source": [
        "factorial=[]\n",
        "a=int(input(\"Please enter a number: \"))\n",
        "for i in range (1,a+1):\n",
        "  if(a%i!=0):\n",
        "    continue\n",
        "  factorial.append(i)\n",
        "print(f\"The factorial of {a} is\",*factorial)\n",
        "if len(factorial)>2:\n",
        "  print(f\"{a} is not a prime number\")\n",
        "else:\n",
        "  print(f\"{a} is a prime number\")"
      ],
      "metadata": {
        "id": "wBF1Km78yeGC",
        "colab": {
          "base_uri": "https://localhost:8080/"
        },
        "outputId": "32d96a09-c50d-461a-b631-0d34ec835a21"
      },
      "execution_count": 39,
      "outputs": [
        {
          "output_type": "stream",
          "name": "stdout",
          "text": [
            "Please enter a number: 11\n",
            "The factorial of 11 is 1 11\n",
            "11 is a prime number\n"
          ]
        }
      ]
    },
    {
      "cell_type": "code",
      "source": [
        ""
      ],
      "metadata": {
        "id": "hZZUb49R0Lt9"
      },
      "execution_count": null,
      "outputs": []
    }
  ]
}
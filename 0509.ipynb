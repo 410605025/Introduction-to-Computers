{
  "nbformat": 4,
  "nbformat_minor": 0,
  "metadata": {
    "colab": {
      "name": "0509.ipynb",
      "provenance": [],
      "authorship_tag": "ABX9TyMkMPIAtKLpl6oSNOwWc5A7",
      "include_colab_link": true
    },
    "kernelspec": {
      "name": "python3",
      "display_name": "Python 3"
    },
    "language_info": {
      "name": "python"
    }
  },
  "cells": [
    {
      "cell_type": "markdown",
      "metadata": {
        "id": "view-in-github",
        "colab_type": "text"
      },
      "source": [
        "<a href=\"https://colab.research.google.com/github/410605025/Introduction-to-Computers/blob/main/0509.ipynb\" target=\"_parent\"><img src=\"https://colab.research.google.com/assets/colab-badge.svg\" alt=\"Open In Colab\"/></a>"
      ]
    },
    {
      "cell_type": "code",
      "execution_count": 9,
      "metadata": {
        "colab": {
          "base_uri": "https://localhost:8080/"
        },
        "id": "LbQD-Mdv7p67",
        "outputId": "c716a03d-454d-4110-b5e4-9fc235de1d1e"
      },
      "outputs": [
        {
          "output_type": "stream",
          "name": "stdout",
          "text": [
            "Please enter your body temperature: 34.1\n",
            "Temperature is normal!\n"
          ]
        }
      ],
      "source": [
        "temp= float(input('Please enter your body temperature: '))\n",
        "if temp >= 37.5:\n",
        "  print('Temperature too high!')\n",
        "elif temp >= 37 and temp <=37.4:\n",
        "  print('Temperature is high!')\n",
        "elif temp >= 34 and temp <=36.9:\n",
        "  print('Temperature is normal!')\n",
        "else:\n",
        "  print('Temperature too low, please remeasure!')"
      ]
    },
    {
      "cell_type": "code",
      "source": [
        "score= int(input('Please enter your score: '))\n",
        "if score >=90:\n",
        "  print('A')\n",
        "elif 80<= score <=89:\n",
        "  print('B')\n",
        "elif 70<= score <=79:\n",
        "  print('C')\n",
        "elif 60<= score <=69:\n",
        "  print('D')\n",
        "else:\n",
        "  print('E')"
      ],
      "metadata": {
        "colab": {
          "base_uri": "https://localhost:8080/"
        },
        "id": "OLbTdizZ_m6v",
        "outputId": "e20e0c33-7831-41f4-e0a3-430bc19b25e9"
      },
      "execution_count": 16,
      "outputs": [
        {
          "output_type": "stream",
          "name": "stdout",
          "text": [
            "Please enter your score: 59\n",
            "E\n"
          ]
        }
      ]
    },
    {
      "cell_type": "code",
      "source": [
        "money = int(input('Please enter the price: '))\n",
        "if (money >= 10000):\n",
        "  if(money >= 100000) :\n",
        "    print('20%', money*0.8, end='yuan\\n')\n",
        "  elif(money >= 50000) :\n",
        "    print('15%', money*0.85, end='yuan\\n')\n",
        "  elif(money >= 30000) :\n",
        "    print('10%', money*0.9, end='yuan\\n')\n",
        "  elif(money >= 10000) :\n",
        "    print('5%', money*0.95, end='yuan\\n')\n",
        "else:\n",
        "  print('no discount', money, end='yuan\\n')"
      ],
      "metadata": {
        "colab": {
          "base_uri": "https://localhost:8080/"
        },
        "id": "NfcNfxjbAJ4t",
        "outputId": "08a1abab-ae1d-4504-dae6-b2d5b29a81e8"
      },
      "execution_count": 21,
      "outputs": [
        {
          "output_type": "stream",
          "name": "stdout",
          "text": [
            "Please enter the price: 9000\n",
            "no discount 9000yuan\n"
          ]
        }
      ]
    },
    {
      "cell_type": "code",
      "source": [
        "month = int(input('Please enter the month (numerical): '))\n",
        "if (month >=3 and month<=5):\n",
        "  print('It is spring!')\n",
        "elif (month >=6 and month<=8):\n",
        "  print('It is summer!')\n",
        "elif (month >=9 and month<=11):\n",
        "  print('It is autumn!')\n",
        "else:\n",
        "  print('It is winter!')"
      ],
      "metadata": {
        "colab": {
          "base_uri": "https://localhost:8080/"
        },
        "id": "F-wNK3XYHYWW",
        "outputId": "32679a5e-db90-45ae-d8fd-7d0cefec68f5"
      },
      "execution_count": 28,
      "outputs": [
        {
          "output_type": "stream",
          "name": "stdout",
          "text": [
            "Please enter the month (numerical): 1\n",
            "It is winter!\n"
          ]
        }
      ]
    },
    {
      "cell_type": "code",
      "source": [
        "tax = int(input('Please enter your yearly income: '))\n",
        "if tax>= 2000000:\n",
        "  print('The tax is: ',tax*0.3, end=' yuan')\n",
        "elif tax>= 1000000:\n",
        "  print('The tax is: ',tax*0.21, end=' yuan')\n",
        "elif tax>= 600000:\n",
        "  print('The tax is: ',tax*0.13, end=' yuan')\n",
        "elif tax>= 300000:\n",
        "  print('The tax is: ',tax*0.06, end=' yuan')\n",
        "else:\n",
        "  print('The tax is: ',tax*0, end=' yuan')"
      ],
      "metadata": {
        "colab": {
          "base_uri": "https://localhost:8080/"
        },
        "id": "6yyuKFkVI3Gl",
        "outputId": "90a381d4-0f80-4874-b3e2-bf764410c03a"
      },
      "execution_count": 36,
      "outputs": [
        {
          "output_type": "stream",
          "name": "stdout",
          "text": [
            "Please enter your yearly income: 100000\n",
            "The tax is:  0 yuan"
          ]
        }
      ]
    }
  ]
}